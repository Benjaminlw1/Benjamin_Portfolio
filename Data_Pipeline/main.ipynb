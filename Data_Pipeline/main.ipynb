{
 "cells": [
  {
   "cell_type": "code",
   "execution_count": 7,
   "id": "crude-kingdom",
   "metadata": {
    "ExecuteTime": {
     "end_time": "2021-04-20T06:32:38.384545Z",
     "start_time": "2021-04-20T06:32:36.863104Z"
    }
   },
   "outputs": [],
   "source": [
    "import os\n",
    "import pandas as pd\n",
    "from fastapi import FastAPI"
   ]
  },
  {
   "cell_type": "code",
   "execution_count": 8,
   "id": "derived-namibia",
   "metadata": {
    "ExecuteTime": {
     "end_time": "2021-04-20T06:32:38.399698Z",
     "start_time": "2021-04-20T06:32:38.385533Z"
    }
   },
   "outputs": [],
   "source": [
    "cwd = os.getcwd() # dirname()\n",
    "BASE_DIR = os.path.dirname(os.path.dirname(os.path.abspath(cwd)))\n",
    "CACHE_DIR = os.path.join(BASE_DIR, 'Data_Pipeline/cache')\n",
    "\n",
    "dataset = os.path.join(CACHE_DIR, 'ranking_movies_dataset_transform.csv')\n",
    "app = FastAPI()"
   ]
  },
  {
   "cell_type": "code",
   "execution_count": 10,
   "id": "minor-graphics",
   "metadata": {
    "ExecuteTime": {
     "end_time": "2021-04-20T06:33:04.716453Z",
     "start_time": "2021-04-20T06:33:04.706037Z"
    }
   },
   "outputs": [],
   "source": [
    "@app.get('/')\n",
    "def read_root():\n",
    "    return{\"Hello\": \"World\"}\n",
    "\n",
    "@app.get('/Movie-Ranking')\n",
    "def read_box_office_numbers():\n",
    "    df = pd.read_csv(dataset)\n",
    "    return df.to_dict(\"Rank\")"
   ]
  }
 ],
 "metadata": {
  "kernelspec": {
   "display_name": "Python 3",
   "language": "python",
   "name": "python3"
  },
  "language_info": {
   "codemirror_mode": {
    "name": "ipython",
    "version": 3
   },
   "file_extension": ".py",
   "mimetype": "text/x-python",
   "name": "python",
   "nbconvert_exporter": "python",
   "pygments_lexer": "ipython3",
   "version": "3.8.5"
  }
 },
 "nbformat": 4,
 "nbformat_minor": 5
}
