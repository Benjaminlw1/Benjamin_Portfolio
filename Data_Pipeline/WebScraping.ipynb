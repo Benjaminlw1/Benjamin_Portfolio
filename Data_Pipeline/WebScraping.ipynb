{
 "cells": [
  {
   "cell_type": "code",
   "execution_count": 1,
   "id": "conditional-mason",
   "metadata": {
    "ExecuteTime": {
     "end_time": "2021-04-19T07:39:57.497121Z",
     "start_time": "2021-04-19T07:39:56.868605Z"
    }
   },
   "outputs": [],
   "source": [
    "import os\n",
    "import sys\n",
    "import pandas as pd\n",
    "import datetime\n",
    "import requests\n",
    "from requests_html import HTML"
   ]
  },
  {
   "cell_type": "code",
   "execution_count": 2,
   "id": "gross-rouge",
   "metadata": {
    "ExecuteTime": {
     "end_time": "2021-04-19T07:39:57.512342Z",
     "start_time": "2021-04-19T07:39:57.498107Z"
    }
   },
   "outputs": [],
   "source": [
    "cwd = os.getcwd() # dirname()\n",
    "BASE_DIR = os.path.dirname(cwd)"
   ]
  },
  {
   "cell_type": "code",
   "execution_count": 4,
   "id": "outdoor-packing",
   "metadata": {
    "ExecuteTime": {
     "end_time": "2021-04-19T07:40:16.912656Z",
     "start_time": "2021-04-19T07:40:16.894304Z"
    }
   },
   "outputs": [],
   "source": [
    "# function to get url and write into a file:\n",
    "def url_to_txt(url, filename=\"world.html\", save=False):\n",
    "    r =r = requests.get(url)\n",
    "    # check for success code \n",
    "    if r.status_code == 200:\n",
    "        html_test = r.text\n",
    "        with open(f\"world-{year}.html\", 'w') as f:\n",
    "            f.write(html_test)\n",
    "        return html_test\n",
    "    # return an empty string if success\n",
    "    return \"\""
   ]
  },
  {
   "cell_type": "code",
   "execution_count": 5,
   "id": "regulated-metallic",
   "metadata": {
    "ExecuteTime": {
     "end_time": "2021-04-19T07:40:17.143671Z",
     "start_time": "2021-04-19T07:40:17.126262Z"
    }
   },
   "outputs": [],
   "source": [
    "def parse_and_extract(url, name):\n",
    "    html_text = url_to_txt(url)\n",
    "    r_html = HTML(html=html_text)\n",
    "    table_class = \".imdb-scroll-table\"\n",
    "    # table_class = \"#table\"\n",
    "    r_table = r_html.find(table_class)   \n",
    "    \n",
    "    # create a list of list\n",
    "    table_data = []\n",
    "    header_names = []\n",
    "    if len(r_table) == 1:\n",
    "        parsed_table = r_table[0]\n",
    "        # find the element containing the data that we want\n",
    "        rows = parsed_table.find(\"tr\")\n",
    "        # first row are the headers\n",
    "        header_row = rows[0]\n",
    "        header_cols = header_row.find(\"th\")\n",
    "        header_names = [x.text for x in header_cols]\n",
    "        # loop through all the rows\n",
    "        for row in rows[1:]:\n",
    "            #print(row.text)\n",
    "            # loop through all the columns\n",
    "            cols = row.find(\"td\")\n",
    "            row_data = []\n",
    "            for i,col in enumerate(cols):\n",
    "                #print(i, col.text, '\\n\\n')\n",
    "                row_data.append(col.text)\n",
    "            table_data.append(row_data)\n",
    "        # save data to csv\n",
    "        df = pd.DataFrame(table_data,columns=header_names)\n",
    "        path = os.path.join(BASE_DIR, 'data')\n",
    "        os.makedirs(path, exist_ok=True)\n",
    "        filepath = os.path.join('data', f'{name}.csv')\n",
    "        df.to_csv(filepath, index=False)"
   ]
  },
  {
   "cell_type": "code",
   "execution_count": 2,
   "id": "smaller-annual",
   "metadata": {
    "ExecuteTime": {
     "end_time": "2021-04-20T07:09:51.876162Z",
     "start_time": "2021-04-20T07:09:51.865250Z"
    }
   },
   "outputs": [
    {
     "data": {
      "text/plain": [
       "'def run(start_year=None, years_ago=10):\\n    if start_year == None:\\n        now = datetime.datetime.now()\\n        year = now.year\\n    assert isinstance(start_year, int)\\n    assert isinstance(years_ago, int)\\n    assert len(f\"{start_year}\") == 4  \\n    for i in range(0, years_ago+1):\\n        \\n        url = \\'https://www.boxofficemojo.com/year/world/{year}\\'\\n        parse_and_extract(url, name=start_year)\\n        print(f\"Finished {start_year}\")\\n        start_year -= 1'"
      ]
     },
     "execution_count": 2,
     "metadata": {},
     "output_type": "execute_result"
    }
   ],
   "source": [
    "\"\"\"def run(start_year=None, years_ago=10):\n",
    "    if start_year == None:\n",
    "        now = datetime.datetime.now()\n",
    "        year = now.year\n",
    "    assert isinstance(start_year, int)\n",
    "    assert isinstance(years_ago, int)\n",
    "    assert len(f\"{start_year}\") == 4  \n",
    "    for i in range(0, years_ago+1):\n",
    "        \n",
    "        url = 'https://www.boxofficemojo.com/year/world/{year}'\n",
    "        parse_and_extract(url, name=start_year)\n",
    "        print(f\"Finished {start_year}\")\n",
    "        start_year -= 1\"\"\""
   ]
  },
  {
   "cell_type": "code",
   "execution_count": 1,
   "id": "recreational-spider",
   "metadata": {
    "ExecuteTime": {
     "end_time": "2021-04-20T07:09:48.293022Z",
     "start_time": "2021-04-20T07:09:48.278638Z"
    }
   },
   "outputs": [
    {
     "data": {
      "text/plain": [
       "'if __name__ == \"__main__\":\\n    start, count = sys.argv[1], sys.argv[2]\\n    try:\\n        start = int(start)\\n    except:\\n        start = None\\n    try:\\n        count = int(count)\\n    except:\\n        count = 1\\n    run(start_year=None, years_ago=count)'"
      ]
     },
     "execution_count": 1,
     "metadata": {},
     "output_type": "execute_result"
    }
   ],
   "source": [
    "# Automate obtain data by runing python terminal and keying in start_date and years_ago\n",
    "\n",
    "\"\"\"if __name__ == \"__main__\":\n",
    "    start, count = sys.argv[1], sys.argv[2]\n",
    "    try:\n",
    "        start = int(start)\n",
    "    except:\n",
    "        start = None\n",
    "    try:\n",
    "        count = int(count)\n",
    "    except:\n",
    "        count = 1\n",
    "    run(start_year=None, years_ago=count)\"\"\""
   ]
  },
  {
   "cell_type": "code",
   "execution_count": 21,
   "id": "wired-baptist",
   "metadata": {
    "ExecuteTime": {
     "end_time": "2021-04-13T09:34:05.188431Z",
     "start_time": "2021-04-13T09:33:46.068946Z"
    }
   },
   "outputs": [],
   "source": [
    "# manual obtain data set my year by chnaging the start_year\n",
    "\n",
    "now = datetime.datetime.now()\n",
    "year = now.year\n",
    "start_year = \"2021\"\n",
    "url = f'https://www.boxofficemojo.com/year/world/{start_year}/'\n",
    "parse_and_extract(url, name=start_year)"
   ]
  }
 ],
 "metadata": {
  "kernelspec": {
   "display_name": "Python 3",
   "language": "python",
   "name": "python3"
  },
  "language_info": {
   "codemirror_mode": {
    "name": "ipython",
    "version": 3
   },
   "file_extension": ".py",
   "mimetype": "text/x-python",
   "name": "python",
   "nbconvert_exporter": "python",
   "pygments_lexer": "ipython3",
   "version": "3.8.5"
  }
 },
 "nbformat": 4,
 "nbformat_minor": 5
}
